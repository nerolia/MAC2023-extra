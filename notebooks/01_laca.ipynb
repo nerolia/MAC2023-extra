{
 "cells": [
  {
   "cell_type": "markdown",
   "metadata": {},
   "source": [
    "# De novo OTU picking from long noisy amplicons with LACA \n",
    "\n",
    "[`LACA`](https://github.com/yanhui09/laca) is a reproducible and scalable workflow for Long Amplicon Consensus Analysis, e.g., 16S rRNA gene. Using Snakemake as the job controller.\n",
    "\n",
    "Exercises:\n",
    "1). Install LACA\n",
    "2). Run LACA on the test dataset"
   ]
  },
  {
   "cell_type": "markdown",
   "metadata": {},
   "source": [
    "## 1) LACA installation\n",
    "\n",
    "The full installation guide of LACA is available at [here](https://github.com/yanhui09/laca#installation)."
   ]
  },
  {
   "cell_type": "markdown",
   "metadata": {},
   "source": [
    "1. Clone the Github repository and create an isolated `conda` environment.\n",
    " \n",
    "You can speed up the whole process if [`mamba`](https://github.com/mamba-org/mamba) is installed."
   ]
  },
  {
   "cell_type": "markdown",
   "metadata": {},
   "source": [
    "To enable `mamba` in the Google Colab environment, run the following cell:"
   ]
  },
  {
   "cell_type": "code",
   "execution_count": null,
   "metadata": {
    "vscode": {
     "languageId": "plaintext"
    }
   },
   "outputs": [],
   "source": [
    "%pip install -q condacolab\n",
    "import condacolab\n",
    "condacolab.install() # expect a kernel restart"
   ]
  },
  {
   "cell_type": "code",
   "execution_count": null,
   "metadata": {
    "vscode": {
     "languageId": "plaintext"
    }
   },
   "outputs": [],
   "source": [
    "%git clone https://github.com/yanhui09/laca.git\n",
    "%cd laca\n",
    "%mamba env create -n laca -f env.yaml "
   ]
  },
  {
   "cell_type": "markdown",
   "metadata": {},
   "source": [
    "2. Install `LACA` with `pip`\n",
    "      \n",
    "To avoid inconsistency, we suggest installing `LACA` in the above `conda` environment."
   ]
  },
  {
   "cell_type": "code",
   "execution_count": null,
   "metadata": {
    "vscode": {
     "languageId": "plaintext"
    }
   },
   "outputs": [],
   "source": [
    "%conda activate laca\n",
    "%pip install --editable ."
   ]
  },
  {
   "cell_type": "markdown",
   "metadata": {},
   "source": [
    "# 2) A demo run with LACA\n",
    "\n",
    "# Example\n",
    "```\n",
    "conda activate laca                                  # activate required environment \n",
    "laca init -b /path/to/basecalled_fastqs -d /path/to/database    # init config file and check\n",
    "laca run all                                         # start analysis\n",
    "```\n",
    "\n",
    "# Usage\n",
    "\n",
    "```\n",
    "Usage: laca [OPTIONS] COMMAND [ARGS]...\n",
    "\n",
    "  LACA: a reproducible and scaleable workflow for Long Amplicon Consensus\n",
    "  Analysis. To follow updates and report issues, see:\n",
    "  https://github.com/yanhui09/laca.\n",
    "\n",
    "Options:\n",
    "  -v, --version  Show the version and exit.\n",
    "  -h, --help     Show this message and exit.\n",
    "\n",
    "Commands:\n",
    "  init  Prepare the config file.\n",
    "  run   Run LACA workflow.\n",
    "```\n",
    "\n",
    "`LACA` is easy to use. You can start a new analysis in two steps using `laca init` and `laca run` . \n",
    "\n",
    "Remember to activate the conda environment.\n",
    "```\n",
    "conda activate laca\n",
    "```\n",
    "\n",
    "1. Intialize a config file with `laca init`\n",
    "\n",
    "`laca init` will generate a config file in the working directory, which contains the necessary parameters to run `LACA`.\n",
    "\n",
    "```\n",
    "Usage: laca init [OPTIONS]\n",
    "\n",
    "  Prepare config file for LACA.\n",
    "\n",
    "Options:\n",
    "  -b, --bascdir PATH              Path to a directory of the basecalled fastq\n",
    "                                  files. Option is mutually exclusive with\n",
    "                                  'merge', 'merge_parent', 'demuxdir'.\n",
    "  -x, --demuxdir PATH             Path to a directory of demultiplexed fastq\n",
    "                                  files. Option is mutually exclusive with\n",
    "                                  'merge', 'merge_parent', 'bascdir'.\n",
    "  --merge PATH                    Path to the working directory of a completed\n",
    "                                  LACA run  [Mutiple]. Runs will be combined\n",
    "                                  if --merge_parent applied. Option is\n",
    "                                  mutually exclusive with 'bascdir',\n",
    "                                  'demuxdir'.\n",
    "  --merge-parent PATH             Path to the parent of the working\n",
    "                                  directories of completed LACA runs. Runs\n",
    "                                  will be combined if --merge applied. Option\n",
    "                                  is mutually exclusive with 'bascdir',\n",
    "                                  'demuxdir'.\n",
    "  -d, --dbdir PATH                Path to the taxonomy databases.  [required]\n",
    "  -w, --workdir PATH              Output directory for LACA.  [default: .]\n",
    "  --demuxer [guppy|minibar]       Demultiplexer.  [default: guppy]\n",
    "  --fqs-min INTEGER               Minimum number of reads for the\n",
    "                                  demultiplexed fastqs.  [default: 1000]\n",
    "  --no-pool                       Do not pool the reads for denoising.\n",
    "  --subsample                     Subsample the reads.\n",
    "  --no-trim                       Do not trim the primers.\n",
    "  --kmerbin                       Do pre-read binning.\n",
    "  --cluster [kmerCon|clustCon|isONclustCon|isONclustCon2|isONcorCon|umiCon]\n",
    "                                  Consensus methods.  [Mutiple]  [default:\n",
    "                                  isONclustCon]\n",
    "  --quant [seqid|minimap2]        Create abundance matrix by sequence id or\n",
    "                                  minimap2.  [Mutiple]  [default: seqid]\n",
    "  --uchime                        Filter chimeras by uchime-denovo in vsearch.\n",
    "  --jobs-min INTEGER              Number of jobs for common tasks.  [default:\n",
    "                                  2]\n",
    "  --jobs-max INTEGER              Number of jobs for threads-dependent tasks.\n",
    "                                  [default: 6]\n",
    "  --nanopore                      Use config template for nanopore reads.\n",
    "                                  Option is mutually exclusive with 'isoseq'.\n",
    "  --isoseq                        Use config template for pacbio CCS reads.\n",
    "                                  Option is mutually exclusive with\n",
    "                                  'nanopore'.\n",
    "  --longumi                       Use primer design from longumi paper (https:\n",
    "                                  //doi.org/10.1038/s41592-020-01041-y).\n",
    "                                  Option is mutually exclusive with\n",
    "                                  'simulate'.\n",
    "  --simulate                      Use config template for in silicon test.\n",
    "                                  Option is mutually exclusive with 'longumi'.\n",
    "  --clean-flags                   Clean flag files.\n",
    "  -h, --help                      Show this message and exit.\n",
    "```\n",
    "\n",
    "2. Start analysis with `laca run`\n",
    "\n",
    "`laca run` will trigger the full workflow or a specfic module under defined resource accordingly.\n",
    "Get a dry-run overview with `-n`. `Snakemake` arguments can be appened to `laca run` as well.\n",
    "\n",
    "```\n",
    "Usage: laca run [OPTIONS] {demux|qc|kmerBin|kmerCon|clustCon|isONclustCon|isON\n",
    "                clustCon2|isONcorCon|umiCon|quant|taxa|tree|all|merge|initDB|s\n",
    "                imulate} [SNAKE_ARGS]...\n",
    "\n",
    "  Run LACA workflow.\n",
    "\n",
    "Options:\n",
    "  -w, --workdir PATH     Working directory for LACA.  [default: .]\n",
    "  -c, --configfile FILE  Config file for LACA. Use config.yaml in working\n",
    "                         directory if not specified.\n",
    "  -j, --jobs INTEGER     Maximum jobs to run in parallel.  [default: 6]\n",
    "  -m, --maxmem FLOAT     Specify maximum memory (GB) to use. Memory is\n",
    "                         controlled by profile in cluster execution.\n",
    "  --profile TEXT         Snakemake profile for cluster execution.\n",
    "  -n, --dryrun           Dry run.\n",
    "  -h, --help             Show this message and exit.\n",
    "```"
   ]
  },
  {
   "cell_type": "code",
   "execution_count": null,
   "metadata": {
    "vscode": {
     "languageId": "plaintext"
    }
   },
   "outputs": [],
   "source": [
    "%conda activate laca \n",
    "%laca init -b ./data/ont16s -d ./database\n",
    "%laca run all -n\n",
    "%laca run all -j 4 -m 20 -w ./laca_output                                    "
   ]
  }
 ],
 "metadata": {
  "language_info": {
   "name": "python"
  },
  "orig_nbformat": 4
 },
 "nbformat": 4,
 "nbformat_minor": 2
}
